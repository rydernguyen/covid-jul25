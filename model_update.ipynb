{
 "cells": [
  {
   "cell_type": "markdown",
   "metadata": {},
   "source": [
    "# IMPORT AND SET UP"
   ]
  },
  {
   "cell_type": "code",
   "execution_count": 1,
   "metadata": {},
   "outputs": [],
   "source": [
    "#Utility\n",
    "import urllib\n",
    "import os\n",
    "import datetime\n",
    "import logging\n",
    "from io import BytesIO\n",
    "import time\n",
    "import pytz\n",
    "\n",
    "#Data Science\n",
    "import pandas as pd\n",
    "import numpy as np\n",
    "\n",
    "#Google API\n",
    "from google.cloud import bigquery\n",
    "from google.cloud import storage # Imports the Google Cloud storage library"
   ]
  },
  {
   "cell_type": "code",
   "execution_count": 2,
   "metadata": {},
   "outputs": [],
   "source": [
    "deployment = 'local' #local or cloud"
   ]
  },
  {
   "cell_type": "code",
   "execution_count": 3,
   "metadata": {},
   "outputs": [],
   "source": [
    "if deployment == 'cloud':\n",
    "    from pyspark.sql import SparkSession #ONlY FOR CLOUD DEPLOYMENT\n",
    "    #Start spark session\n",
    "    spark = SparkSession \\\n",
    "        .builder \\\n",
    "        .config(\"spark.jars.packages\", \"com.google.cloud.spark:spark-bigquery-with-dependencies_2.11:0.17.0\")\\\n",
    "        .master('yarn') \\\n",
    "        .appName('spark-bigquery-ryder') \\\n",
    "        .getOrCreate()\n",
    "    \n",
    "    #Instantiate BigQuery client\n",
    "    bigquery_client = bigquery.Client() # Instantiates a client\n",
    "    #Instantiate Storage client\n",
    "    storage_client = storage.Client() # Instantiates a client\n",
    "    \n",
    "else:\n",
    "    #Set credentials for bigquery !FOR LOCAL ONLY, DON'T COPY TO PYSPARK\n",
    "    os.environ[\"GOOGLE_APPLICATION_CREDENTIALS\"]=\"covid-jul25-**************.json\"\n",
    "    bigquery_client = bigquery.Client() # Instantiates a client\n",
    "\n",
    "    #Set credentials for cloud storage\n",
    "    os.environ[\"GOOGLE_APPLICATION_CREDENTIALS\"]=\"covid-jul25-**************.json\"\n",
    "    storage_client = storage.Client() # Instantiates a client"
   ]
  },
  {
   "cell_type": "code",
   "execution_count": 4,
   "metadata": {},
   "outputs": [],
   "source": [
    "#Set working environment\n",
    "PROJECT_ID='covid-jul25'\n",
    "REGION='us-west3'\n",
    "ZONE='us-west3-a'\n",
    "BUCKET_LINK='gs://us-west3-{BUCKET_NAME}'\n",
    "BUCKET='us-west3-{BUCKET_NAME}'"
   ]
  },
  {
   "cell_type": "markdown",
   "metadata": {},
   "source": [
    "# UDF"
   ]
  },
  {
   "cell_type": "code",
   "execution_count": 5,
   "metadata": {},
   "outputs": [],
   "source": [
    "def arima_forecast(case_type,horizon,confidence_level,sorted_statedict):\n",
    "    '''Create sql script for BigQuery to run ML_FORECAST on multiple models and concatenate the results\n",
    "    Args:\n",
    "    case_type(STRING): 'confirmed' or 'deaths'\n",
    "    horizon(INT): length of forecast with automatic frequency provided by ARIMA model\n",
    "    confidence_level(FLOAT): confidence level of forecast\n",
    "    sorted_statedict(List of tuples): item is [(state abbr, state)]\n",
    "    \n",
    "    Return:\n",
    "    sql(STRING): sql script to be run in BigQuery\n",
    "    '''\n",
    "    sql = ''\n",
    "    for state in enumerate(sorted_statedict):\n",
    "        if state[0] == 0:\n",
    "            sql += f'''DELETE FROM `covid-jul25.arimamodels.{case_type}_US_forecast` WHERE True; INSERT INTO `covid-jul25.arimamodels.{case_type}_US_forecast` SELECT * FROM ML.FORECAST(MODEL `covid-jul25.arimamodels.{case_type}_{state[1][0]}`, STRUCT({horizon} AS horizon, {confidence_level} AS confidence_level))'''\n",
    "        else:\n",
    "            sql += f''' UNION ALL SELECT * FROM ML.FORECAST(MODEL `covid-jul25.arimamodels.{case_type}_{state[1][0]}`, STRUCT({horizon} AS horizon, {confidence_level} AS confidence_level))'''    \n",
    "    return(sql)"
   ]
  },
  {
   "cell_type": "markdown",
   "metadata": {},
   "source": [
    "# IMPORT STATE DATA FROM BIGQUERY"
   ]
  },
  {
   "cell_type": "code",
   "execution_count": 6,
   "metadata": {},
   "outputs": [],
   "source": [
    "#Exclude certain states\n",
    "excludestate = ['American Samoa','United States Virgin Islands','Commonwealth of the Northern Mariana Islands','Guam','Puerto Rico']\n",
    "excludestateabbr = ['AS','VI','MP','GU','PR']"
   ]
  },
  {
   "cell_type": "code",
   "execution_count": 7,
   "metadata": {},
   "outputs": [
    {
     "name": "stderr",
     "output_type": "stream",
     "text": [
      "Downloading: 100%|█████████████████████████████████████████████████████████████| 3142/3142 [00:00<00:00, 4389.40rows/s]\n"
     ]
    }
   ],
   "source": [
    "sql = \"\"\"\n",
    "    SELECT *\n",
    "    FROM [covid-jul25.usprojections.countyarea]\n",
    "\"\"\"\n",
    "countyarea = pd.read_gbq(sql, dialect='legacy')"
   ]
  },
  {
   "cell_type": "code",
   "execution_count": 8,
   "metadata": {},
   "outputs": [],
   "source": [
    "#State abbrev list\n",
    "stateabbrlist = countyarea.loc[:,['state_name','state_abbreviation']].drop_duplicates()\n",
    "statelist = stateabbrlist[~stateabbrlist['state_name'].isin(excludestate)]['state_name'].to_list()\n",
    "stateabb = stateabbrlist[~stateabbrlist['state_abbreviation'].isin(excludestateabbr)]['state_abbreviation'].to_list()\n",
    "\n",
    "statedict = dict(zip(stateabb, statelist))\n",
    "rstatedict = dict(zip(statelist,stateabb))"
   ]
  },
  {
   "cell_type": "code",
   "execution_count": 9,
   "metadata": {},
   "outputs": [],
   "source": [
    "#Loop through states to create models for confirmed ONLY\n",
    "dictionary_items = statedict.items()\n",
    "sorted_statedict = sorted(dictionary_items)"
   ]
  },
  {
   "cell_type": "markdown",
   "metadata": {},
   "source": [
    "# ARIMA"
   ]
  },
  {
   "cell_type": "markdown",
   "metadata": {},
   "source": [
    "## Put cases data in format for ARIMA"
   ]
  },
  {
   "cell_type": "code",
   "execution_count": 10,
   "metadata": {},
   "outputs": [],
   "source": [
    "#Reformat the cases data\n",
    "query_job = bigquery_client.query(\n",
    "    \"\"\"\n",
    "    DROP TABLE IF EXISTS `covid-jul25.usprojections.arimaformat`;\n",
    "    CREATE TABLE `covid-jul25.usprojections.arimaformat` AS\n",
    "    (SELECT *, deaths as value, 'deaths' as case_type \n",
    "    FROM `covid-jul25.usprojections.temp_cases`\n",
    "    UNION ALL\n",
    "    SELECT *, confirmed as value, 'confirmed' as case_type \n",
    "    FROM `covid-jul25.usprojections.temp_cases`)\n",
    "    \"\"\")\n",
    "results = query_job.result()  # Waits for job to complete."
   ]
  },
  {
   "cell_type": "markdown",
   "metadata": {},
   "source": [
    "## ARIMA for CONFIRMED Cases"
   ]
  },
  {
   "cell_type": "code",
   "execution_count": 11,
   "metadata": {},
   "outputs": [
    {
     "name": "stdout",
     "output_type": "stream",
     "text": [
      "Complete ARIMA model for confirmed projections for Alaska\n",
      "Complete ARIMA model for confirmed projections for Alabama\n",
      "Complete ARIMA model for confirmed projections for Arkansas\n",
      "Complete ARIMA model for confirmed projections for Arizona\n",
      "Complete ARIMA model for confirmed projections for California\n",
      "Complete ARIMA model for confirmed projections for Colorado\n",
      "Complete ARIMA model for confirmed projections for Connecticut\n",
      "Complete ARIMA model for confirmed projections for District of Columbia\n",
      "Complete ARIMA model for confirmed projections for Delaware\n",
      "Complete ARIMA model for confirmed projections for Florida\n",
      "Complete ARIMA model for confirmed projections for Georgia\n",
      "Complete ARIMA model for confirmed projections for Hawaii\n",
      "Complete ARIMA model for confirmed projections for Iowa\n",
      "Complete ARIMA model for confirmed projections for Idaho\n",
      "Complete ARIMA model for confirmed projections for Illinois\n",
      "Complete ARIMA model for confirmed projections for Indiana\n",
      "Complete ARIMA model for confirmed projections for Kansas\n",
      "Complete ARIMA model for confirmed projections for Kentucky\n",
      "Complete ARIMA model for confirmed projections for Louisiana\n",
      "Complete ARIMA model for confirmed projections for Massachusetts\n",
      "Complete ARIMA model for confirmed projections for Maryland\n",
      "Complete ARIMA model for confirmed projections for Maine\n",
      "Complete ARIMA model for confirmed projections for Michigan\n",
      "Complete ARIMA model for confirmed projections for Minnesota\n",
      "Complete ARIMA model for confirmed projections for Missouri\n",
      "Complete ARIMA model for confirmed projections for Mississippi\n",
      "Complete ARIMA model for confirmed projections for Montana\n",
      "Complete ARIMA model for confirmed projections for North Carolina\n",
      "Complete ARIMA model for confirmed projections for North Dakota\n",
      "Complete ARIMA model for confirmed projections for Nebraska\n",
      "Complete ARIMA model for confirmed projections for New Hampshire\n",
      "Complete ARIMA model for confirmed projections for New Jersey\n",
      "Complete ARIMA model for confirmed projections for New Mexico\n",
      "Complete ARIMA model for confirmed projections for Nevada\n",
      "Complete ARIMA model for confirmed projections for New York\n",
      "Complete ARIMA model for confirmed projections for Ohio\n",
      "Complete ARIMA model for confirmed projections for Oklahoma\n",
      "Complete ARIMA model for confirmed projections for Oregon\n",
      "Complete ARIMA model for confirmed projections for Pennsylvania\n",
      "Complete ARIMA model for confirmed projections for Rhode Island\n",
      "Complete ARIMA model for confirmed projections for South Carolina\n",
      "Complete ARIMA model for confirmed projections for South Dakota\n",
      "Complete ARIMA model for confirmed projections for Tennessee\n",
      "Complete ARIMA model for confirmed projections for Texas\n",
      "Complete ARIMA model for confirmed projections for Utah\n",
      "Complete ARIMA model for confirmed projections for Virginia\n",
      "Complete ARIMA model for confirmed projections for Vermont\n",
      "Complete ARIMA model for confirmed projections for Washington\n",
      "Complete ARIMA model for confirmed projections for Wisconsin\n",
      "Complete ARIMA model for confirmed projections for West Virginia\n",
      "Complete ARIMA model for confirmed projections for Wyoming\n"
     ]
    }
   ],
   "source": [
    "case_type = 'confirmed'\n",
    "for state in sorted_statedict:\n",
    "    query_job = bigquery_client.query(\n",
    "    f\"\"\"\n",
    "    CREATE OR REPLACE MODEL `covid-jul25.arimamodels.{case_type}_{state[0]}`\n",
    "    OPTIONS\n",
    "    (model_type = 'ARIMA',\n",
    "    time_series_timestamp_col = 'date1',\n",
    "    time_series_data_col = 'value',\n",
    "    time_series_id_col = 'statecounty'\n",
    "    ) AS\n",
    "    SELECT date1, value, statecounty\n",
    "    FROM\n",
    "    `covid-jul25.usprojections.arimaformat`\n",
    "    WHERE state = '{state[1]}'\n",
    "    AND case_type = '{case_type}'\n",
    "    \"\"\")\n",
    "    results = query_job.result()  # Waits for job to complete.\n",
    "    print(f\"\"\"Complete ARIMA model for {case_type} projections for {state[1]}\"\"\")"
   ]
  },
  {
   "cell_type": "code",
   "execution_count": 12,
   "metadata": {},
   "outputs": [
    {
     "name": "stdout",
     "output_type": "stream",
     "text": [
      "Complete ARIMA parameters table for confirmed projections for all states.\n"
     ]
    }
   ],
   "source": [
    "#CREATE RESULTS TABLE FOR JOINING all the result tables\n",
    "case_type = 'confirmed'\n",
    "for state in sorted_statedict:\n",
    "    query_job = bigquery_client.query(\n",
    "    f\"\"\"\n",
    "    DROP TABLE IF EXISTS `covid-jul25.arimamodels.{case_type}_{state[0]}_tbl`;\n",
    "    CREATE TABLE `covid-jul25.arimamodels.{case_type}_{state[0]}_tbl` AS\n",
    "    SELECT * FROM ML.EVALUATE(MODEL `covid-jul25.arimamodels.{case_type}_{state[0]}`);\n",
    "    \"\"\")\n",
    "    results = query_job.result()  # Waits for job to complete.\n",
    "print(f\"\"\"Complete ARIMA parameters table for {case_type} projections for all states.\"\"\")"
   ]
  },
  {
   "cell_type": "markdown",
   "metadata": {},
   "source": [
    "### ARIMA PARAMETERS for county level for CONFIRMED"
   ]
  },
  {
   "cell_type": "code",
   "execution_count": 13,
   "metadata": {},
   "outputs": [],
   "source": [
    "#Combine all statecounty table\n",
    "case_type = 'confirmed'\n",
    "query_job = bigquery_client.query(\n",
    "    f\"\"\"\n",
    "    -- DROP TABLE `covid-jul25.arimamodels.{case_type}_US`;\n",
    "    -- CREATE TABLE `covid-jul25.arimamodels.{case_type}_US` AS\n",
    "    DELETE FROM `covid-jul25.arimamodels.{case_type}_US` WHERE True;\n",
    "    INSERT INTO `covid-jul25.arimamodels.{case_type}_US`\n",
    "    SELECT * FROM\n",
    "    `covid-jul25.arimamodels.{case_type}_*`\n",
    "    WHERE statecounty is not null;\n",
    "    \"\"\")\n",
    "results = query_job.result()  # Waits for job to complete."
   ]
  },
  {
   "cell_type": "markdown",
   "metadata": {},
   "source": [
    "### ARIMA FORECASTS for county level for CONFIRMED "
   ]
  },
  {
   "cell_type": "code",
   "execution_count": 14,
   "metadata": {},
   "outputs": [],
   "source": [
    "query_job = bigquery_client.query(arima_forecast('confirmed',30,0.9,sorted_statedict))\n",
    "results = query_job.result()  # Waits for job to complete."
   ]
  },
  {
   "cell_type": "markdown",
   "metadata": {},
   "source": [
    "## ARIMA for Deaths Cases"
   ]
  },
  {
   "cell_type": "code",
   "execution_count": 15,
   "metadata": {},
   "outputs": [
    {
     "name": "stdout",
     "output_type": "stream",
     "text": [
      "Complete ARIMA model for deaths projections for Alaska\n",
      "Complete ARIMA model for deaths projections for Alabama\n",
      "Complete ARIMA model for deaths projections for Arkansas\n",
      "Complete ARIMA model for deaths projections for Arizona\n",
      "Complete ARIMA model for deaths projections for California\n",
      "Complete ARIMA model for deaths projections for Colorado\n",
      "Complete ARIMA model for deaths projections for Connecticut\n",
      "Complete ARIMA model for deaths projections for District of Columbia\n",
      "Complete ARIMA model for deaths projections for Delaware\n",
      "Complete ARIMA model for deaths projections for Florida\n",
      "Complete ARIMA model for deaths projections for Georgia\n",
      "Complete ARIMA model for deaths projections for Hawaii\n",
      "Complete ARIMA model for deaths projections for Iowa\n",
      "Complete ARIMA model for deaths projections for Idaho\n",
      "Complete ARIMA model for deaths projections for Illinois\n",
      "Complete ARIMA model for deaths projections for Indiana\n",
      "Complete ARIMA model for deaths projections for Kansas\n",
      "Complete ARIMA model for deaths projections for Kentucky\n",
      "Complete ARIMA model for deaths projections for Louisiana\n",
      "Complete ARIMA model for deaths projections for Massachusetts\n",
      "Complete ARIMA model for deaths projections for Maryland\n",
      "Complete ARIMA model for deaths projections for Maine\n",
      "Complete ARIMA model for deaths projections for Michigan\n",
      "Complete ARIMA model for deaths projections for Minnesota\n",
      "Complete ARIMA model for deaths projections for Missouri\n",
      "Complete ARIMA model for deaths projections for Mississippi\n",
      "Complete ARIMA model for deaths projections for Montana\n",
      "Complete ARIMA model for deaths projections for North Carolina\n",
      "Complete ARIMA model for deaths projections for North Dakota\n",
      "Complete ARIMA model for deaths projections for Nebraska\n",
      "Complete ARIMA model for deaths projections for New Hampshire\n",
      "Complete ARIMA model for deaths projections for New Jersey\n",
      "Complete ARIMA model for deaths projections for New Mexico\n",
      "Complete ARIMA model for deaths projections for Nevada\n",
      "Complete ARIMA model for deaths projections for New York\n",
      "Complete ARIMA model for deaths projections for Ohio\n",
      "Complete ARIMA model for deaths projections for Oklahoma\n",
      "Complete ARIMA model for deaths projections for Oregon\n",
      "Complete ARIMA model for deaths projections for Pennsylvania\n",
      "Complete ARIMA model for deaths projections for Rhode Island\n",
      "Complete ARIMA model for deaths projections for South Carolina\n",
      "Complete ARIMA model for deaths projections for South Dakota\n",
      "Complete ARIMA model for deaths projections for Tennessee\n",
      "Complete ARIMA model for deaths projections for Texas\n",
      "Complete ARIMA model for deaths projections for Utah\n",
      "Complete ARIMA model for deaths projections for Virginia\n",
      "Complete ARIMA model for deaths projections for Vermont\n",
      "Complete ARIMA model for deaths projections for Washington\n",
      "Complete ARIMA model for deaths projections for Wisconsin\n",
      "Complete ARIMA model for deaths projections for West Virginia\n",
      "Complete ARIMA model for deaths projections for Wyoming\n"
     ]
    }
   ],
   "source": [
    "case_type = 'deaths'\n",
    "for state in sorted_statedict:\n",
    "    query_job = bigquery_client.query(\n",
    "    f\"\"\"\n",
    "    CREATE OR REPLACE MODEL `covid-jul25.arimamodels.{case_type}_{state[0]}`\n",
    "    OPTIONS\n",
    "    (model_type = 'ARIMA',\n",
    "    time_series_timestamp_col = 'date1',\n",
    "    time_series_data_col = 'value',\n",
    "    time_series_id_col = 'statecounty'\n",
    "    ) AS\n",
    "    SELECT date1, value, statecounty\n",
    "    FROM\n",
    "    `covid-jul25.usprojections.arimaformat`\n",
    "    WHERE state = '{state[1]}'\n",
    "    AND case_type = '{case_type}'\n",
    "    \"\"\")\n",
    "    results = query_job.result()  # Waits for job to complete.\n",
    "    print(f\"\"\"Complete ARIMA model for {case_type} projections for {state[1]}\"\"\")"
   ]
  },
  {
   "cell_type": "code",
   "execution_count": 17,
   "metadata": {},
   "outputs": [
    {
     "name": "stdout",
     "output_type": "stream",
     "text": [
      "Complete ARIMA parameters table for deaths projections for all states.\n"
     ]
    }
   ],
   "source": [
    "#CREATE RESULTS TABLE FOR JOINING all the result tables\n",
    "case_type = 'deaths'\n",
    "for state in sorted_statedict:\n",
    "    query_job = bigquery_client.query(\n",
    "    f\"\"\"\n",
    "    DROP TABLE IF EXISTS `covid-jul25.arimamodels.{case_type}_{state[0]}_tbl`;\n",
    "    CREATE TABLE `covid-jul25.arimamodels.{case_type}_{state[0]}_tbl` AS\n",
    "    SELECT * FROM ML.EVALUATE(MODEL `covid-jul25.arimamodels.{case_type}_{state[0]}`);\n",
    "    \"\"\")\n",
    "    results = query_job.result()  # Waits for job to complete.\n",
    "print(f\"\"\"Complete ARIMA parameters table for {case_type} projections for all states.\"\"\")"
   ]
  },
  {
   "cell_type": "markdown",
   "metadata": {},
   "source": [
    "### ARIMA PARAMETERS for county level for DEATHS"
   ]
  },
  {
   "cell_type": "code",
   "execution_count": 18,
   "metadata": {},
   "outputs": [],
   "source": [
    "#Combine all statecounty table\n",
    "case_type = 'deaths'\n",
    "query_job = bigquery_client.query(\n",
    "    f\"\"\"\n",
    "    -- DROP TABLE `covid-jul25.arimamodels.{case_type}_US`;\n",
    "    -- CREATE TABLE `covid-jul25.arimamodels.{case_type}_US` AS\n",
    "    DELETE FROM `covid-jul25.arimamodels.{case_type}_US` WHERE True;\n",
    "    INSERT INTO `covid-jul25.arimamodels.{case_type}_US`\n",
    "    SELECT * FROM\n",
    "    `covid-jul25.arimamodels.{case_type}_*`\n",
    "    WHERE statecounty is not null;\n",
    "    \"\"\")\n",
    "results = query_job.result()  # Waits for job to complete."
   ]
  },
  {
   "cell_type": "markdown",
   "metadata": {},
   "source": [
    "### ARIMA FORECASTS for county level for DEATHS "
   ]
  },
  {
   "cell_type": "code",
   "execution_count": 19,
   "metadata": {},
   "outputs": [],
   "source": [
    "query_job = bigquery_client.query(arima_forecast('deaths',30,0.9,sorted_statedict))\n",
    "results = query_job.result()  # Waits for job to complete."
   ]
  },
  {
   "cell_type": "markdown",
   "metadata": {},
   "source": [
    "# UPDATE STATIC STATS FOR ARIMA NEXT 7 DAYS"
   ]
  },
  {
   "cell_type": "code",
   "execution_count": 20,
   "metadata": {},
   "outputs": [
    {
     "name": "stderr",
     "output_type": "stream",
     "text": [
      "Downloading: 100%|███████████████████████████████████████████████████████████| 97620/97620 [00:11<00:00, 8474.72rows/s]\n",
      "Downloading: 100%|██████████████████████████████████████████████████████████| 97620/97620 [00:09<00:00, 10345.50rows/s]\n"
     ]
    }
   ],
   "source": [
    "sql = \"\"\"SELECT * FROM [covid-jul25.arimamodels.confirmed_US_forecast]\"\"\"\n",
    "rawconfirmeddf = pd.read_gbq(sql, dialect='legacy')\n",
    "\n",
    "sql = \"\"\"SELECT * FROM [covid-jul25.arimamodels.deaths_US_forecast]\"\"\"\n",
    "rawdeathsdf = pd.read_gbq(sql, dialect='legacy')"
   ]
  },
  {
   "cell_type": "code",
   "execution_count": 21,
   "metadata": {},
   "outputs": [],
   "source": [
    "#Set today\n",
    "today = datetime.date.today()\n",
    "sd = today + datetime.timedelta(days=7) #7-day forecast\n",
    "#Set timezone to UTC\n",
    "sd = datetime.datetime(sd.year,sd.month,sd.day,tzinfo=datetime.timezone.utc)"
   ]
  },
  {
   "cell_type": "markdown",
   "metadata": {},
   "source": [
    "## CONFIRMED cases next 7 days"
   ]
  },
  {
   "cell_type": "code",
   "execution_count": 22,
   "metadata": {},
   "outputs": [],
   "source": [
    "#Get only counties in the countyarea list (EXCLUDE certain counties and territories)\n",
    "confirmeddf = rawconfirmeddf.copy()\n",
    "confirmeddf = confirmeddf[confirmeddf['statecounty'].isin(list(countyarea['statecounty']))]\n",
    "#Get data for 7 day from now and forecast_value\n",
    "confirmeddf = confirmeddf[confirmeddf['forecast_timestamp']==sd][['statecounty','forecast_value']]"
   ]
  },
  {
   "cell_type": "code",
   "execution_count": 23,
   "metadata": {},
   "outputs": [],
   "source": [
    "#Get state names using split\n",
    "state = list(map(lambda x:x.split('-',1),list(confirmeddf['statecounty'])))\n",
    "confirmeddf['state']=list(pd.DataFrame(state)[0])"
   ]
  },
  {
   "cell_type": "code",
   "execution_count": 24,
   "metadata": {},
   "outputs": [],
   "source": [
    "#Get state abbr\n",
    "stateabbr = list(map(lambda x:rstatedict[x],list(confirmeddf['state'])))\n",
    "statefc_confirmed = confirmeddf.copy()\n",
    "statefc_confirmed['region'] = list(pd.DataFrame(stateabbr)[0])\n",
    "statefc_confirmed['region'] = 'US-'+ statefc_confirmed['region']\n",
    "statefc_confirmed = statefc_confirmed.drop(columns=['state'])\n",
    "statefc_confirmed.columns = ['statecounty','confirmed_forecast','region']"
   ]
  },
  {
   "cell_type": "markdown",
   "metadata": {},
   "source": [
    "## DEATHS cases next 7 days"
   ]
  },
  {
   "cell_type": "code",
   "execution_count": 25,
   "metadata": {},
   "outputs": [],
   "source": [
    "#Get only counties in the countyarea list (EXCLUDE certain counties and territories)\n",
    "deathsdf = rawdeathsdf.copy()\n",
    "deathsdf = deathsdf[deathsdf['statecounty'].isin(list(countyarea['statecounty']))]\n",
    "#Get data for 7 day from now and forecast_value\n",
    "deathsdf = deathsdf[deathsdf['forecast_timestamp']==sd][['statecounty','forecast_value']]"
   ]
  },
  {
   "cell_type": "code",
   "execution_count": 26,
   "metadata": {},
   "outputs": [],
   "source": [
    "#Get state names using split\n",
    "state = list(map(lambda x:x.split('-',1),list(deathsdf['statecounty'])))\n",
    "deathsdf['state']=list(pd.DataFrame(state)[0])"
   ]
  },
  {
   "cell_type": "code",
   "execution_count": 27,
   "metadata": {},
   "outputs": [],
   "source": [
    "#Get state abbr\n",
    "stateabbr = list(map(lambda x:rstatedict[x],list(deathsdf['state'])))\n",
    "statefc_deaths = deathsdf.copy()\n",
    "statefc_deaths['region'] = list(pd.DataFrame(stateabbr)[0])\n",
    "statefc_deaths['region'] = 'US-'+ statefc_deaths['region']\n",
    "statefc_deaths = statefc_deaths.drop(columns=['state'])\n",
    "statefc_deaths.columns = ['statecounty','deaths_forecast','region']"
   ]
  },
  {
   "cell_type": "markdown",
   "metadata": {},
   "source": [
    "## Write to BigQuery and Update"
   ]
  },
  {
   "cell_type": "code",
   "execution_count": 28,
   "metadata": {},
   "outputs": [
    {
     "name": "stderr",
     "output_type": "stream",
     "text": [
      "1it [00:03,  3.38s/it]\n",
      "1it [00:06,  6.98s/it]\n"
     ]
    }
   ],
   "source": [
    "statefc_confirmed.to_gbq('usprojections.arima_confirmed_statecounty',if_exists='replace')\n",
    "statefc_deaths.to_gbq('usprojections.arima_deaths_statecounty',if_exists='replace')"
   ]
  },
  {
   "cell_type": "code",
   "execution_count": 29,
   "metadata": {},
   "outputs": [],
   "source": [
    "query_job = bigquery_client.query(\n",
    "    \"\"\"\n",
    "    UPDATE `covid-jul25.usprojections.latest_cases` as M\n",
    "    SET M.arima_confirmed_forecast = S.confirmed_forecast\n",
    "    FROM `covid-jul25.usprojections.arima_confirmed_statecounty` as S\n",
    "    WHERE M.statecounty = S.statecounty;\n",
    "    \n",
    "    UPDATE `covid-jul25.usprojections.latest_cases` as M\n",
    "    SET M.arima_deaths_forecast = S.deaths_forecast\n",
    "    FROM `covid-jul25.usprojections.arima_deaths_statecounty` as S\n",
    "    WHERE M.statecounty = S.statecounty;\n",
    "    \"\"\")\n",
    "results = query_job.result()  # Waits for job to complete."
   ]
  },
  {
   "cell_type": "markdown",
   "metadata": {},
   "source": [
    "# APPEND PARAMETERS"
   ]
  },
  {
   "cell_type": "code",
   "execution_count": 30,
   "metadata": {},
   "outputs": [],
   "source": [
    "query_job = bigquery_client.query(\n",
    "    \"\"\"\n",
    "    DELETE FROM `covid-jul25.usprojections.arima_all_parameter` WHERE True;\n",
    "    INSERT INTO `covid-jul25.usprojections.arima_all_parameter` \n",
    "    SELECT M.*, S.state_name as State, true as type FROM `covid-jul25.arimamodels.confirmed_US` as M\n",
    "    LEFT JOIN `covid-jul25.usprojections.countyarea` as S\n",
    "    ON M.statecounty = S.statecounty\n",
    "    WHERE non_seasonal_p is not null\n",
    "\n",
    "    UNION ALL\n",
    "\n",
    "    SELECT M.*, S.state_name as State, false as type FROM `covid-jul25.arimamodels.deaths_US` as M\n",
    "    LEFT JOIN `covid-jul25.usprojections.countyarea` as S\n",
    "    ON M.statecounty = S.statecounty\n",
    "    WHERE non_seasonal_p is not null\n",
    "    \"\"\")\n",
    "results = query_job.result()  # Waits for job to complete."
   ]
  },
  {
   "cell_type": "markdown",
   "metadata": {},
   "source": [
    "# APPEND FORECAST TO END OF RESULTS"
   ]
  },
  {
   "cell_type": "markdown",
   "metadata": {},
   "source": [
    "## ALL cases (forecast next 30 days)"
   ]
  },
  {
   "cell_type": "code",
   "execution_count": 31,
   "metadata": {},
   "outputs": [],
   "source": [
    "query_job = bigquery_client.query(\n",
    "    \"\"\"\n",
    "    -- DROP TABLE IF EXISTS `covid-jul25.usprojections.arima_all_forecast`;\n",
    "    -- CREATE TABLE `covid-jul25.usprojections.arima_all_forecast` AS\n",
    "    DELETE FROM `covid-jul25.usprojections.arima_all_forecast` WHERE True;\n",
    "    INSERT INTO `covid-jul25.usprojections.arima_all_forecast` \n",
    "    SELECT A.*, B.county_name FROM\n",
    "    (SELECT M.*, S.state as State, S.lat_long, S.confirmed as actual_latest, S.region, true as type FROM `covid-jul25.arimamodels.confirmed_US_forecast` as M\n",
    "    LEFT JOIN `covid-jul25.usprojections.latest_cases` as S\n",
    "    ON M.statecounty = S.statecounty\n",
    "\n",
    "    UNION ALL\n",
    "\n",
    "    SELECT M.*, S.state as State, S.lat_long, S.deaths as actual_latest, S.region, false as type FROM `covid-jul25.arimamodels.deaths_US_forecast` as M\n",
    "    LEFT JOIN `covid-jul25.usprojections.latest_cases` as S\n",
    "    ON M.statecounty = S.statecounty) as A\n",
    "\n",
    "    RIGHT JOIN `covid-jul25.usprojections.countyarea` as B\n",
    "    ON A.statecounty = B.statecounty\n",
    "    \"\"\")\n",
    "results = query_job.result()"
   ]
  },
  {
   "cell_type": "markdown",
   "metadata": {},
   "source": [
    "## Store the results for next 30 in a temp table"
   ]
  },
  {
   "cell_type": "code",
   "execution_count": 52,
   "metadata": {},
   "outputs": [],
   "source": [
    "query_job = bigquery_client.query(\n",
    "    \"\"\"\n",
    "    DROP TABLE IF EXISTS `covid-jul25.usprojections.arima_all_result_temp`;\n",
    "    CREATE TABLE `covid-jul25.usprojections.arima_all_result_temp` AS\n",
    "    SELECT M.*, S.deaths FROM\n",
    "    (SELECT State as state, county_name as county, statecounty, lat_long, actual_latest as confirmed, region, forecast_timestamp as date\n",
    "    FROM `covid-jul25.usprojections.arima_all_forecast`\n",
    "    WHERE type = True) as M\n",
    "    LEFT JOIN\n",
    "    (SELECT State as state, county_name as county, statecounty, lat_long, actual_latest as deaths, region, forecast_timestamp as date\n",
    "    FROM `covid-jul25.usprojections.arima_all_forecast`\n",
    "    WHERE type = False) as S\n",
    "    ON M.statecounty = S.statecounty\n",
    "    AND M.date = S.date\n",
    "    \"\"\")\n",
    "results = query_job.result()"
   ]
  },
  {
   "cell_type": "code",
   "execution_count": 53,
   "metadata": {},
   "outputs": [
    {
     "name": "stderr",
     "output_type": "stream",
     "text": [
      "Downloading: 100%|██████████████████████████████████████████████████████████| 94590/94590 [00:08<00:00, 10679.91rows/s]\n"
     ]
    }
   ],
   "source": [
    "# sql = \"\"\"SELECT * FROM [covid-jul25.usprojections.arima_all_forecast]\"\"\"\n",
    "sql = \"\"\"SELECT * FROM [covid-jul25.usprojections.arima_all_result_temp]\"\"\"\n",
    "allforecast = pd.read_gbq(sql, dialect='legacy')"
   ]
  },
  {
   "cell_type": "code",
   "execution_count": 54,
   "metadata": {},
   "outputs": [],
   "source": [
    "allforecast = allforecast[allforecast['statecounty'].isin(list(countyarea['statecounty']))]\n",
    "# allforecast.columns = ['statecounty','date','confirmed','deaths']\n",
    "\n",
    "# ['statecounty',\n",
    "#  'forecast_timestamp',\n",
    "#  'forecast_value',\n",
    "#  'standard_error',\n",
    "#  'confidence_level',\n",
    "#  'prediction_interval_lower_bound',\n",
    "#  'prediction_interval_upper_bound',\n",
    "#  'confidence_interval_lower_bound',\n",
    "#  'confidence_interval_upper_bound',\n",
    "#  'State',\n",
    "#  'lat_long',\n",
    "#  'actual_latest',\n",
    "#  'region',\n",
    "#  'type',\n",
    "#  'county_name']"
   ]
  },
  {
   "cell_type": "code",
   "execution_count": null,
   "metadata": {},
   "outputs": [],
   "source": [
    "# #Get state names using split\n",
    "# state = list(map(lambda x:x.split('-',1),list(allforecast['statecounty'])))\n",
    "# allforecast['state']=list(pd.DataFrame(state)[0])\n",
    "# allforecast['county']=list(pd.DataFrame(state)[1])\n",
    "\n",
    "# #Get state abbr\n",
    "# stateabbr = list(map(lambda x:rstatedict[x],list(allforecast['state'])))\n",
    "# allforecast['region'] = list(pd.DataFrame(stateabbr)[0])\n",
    "# allforecast['region'] = 'US-'+allforecast['region']"
   ]
  },
  {
   "cell_type": "markdown",
   "metadata": {},
   "source": [
    "## Appending to latest results"
   ]
  },
  {
   "cell_type": "code",
   "execution_count": 38,
   "metadata": {},
   "outputs": [
    {
     "name": "stderr",
     "output_type": "stream",
     "text": [
      "Downloading: 100%|█████████████████████████████████████████████████████████| 716148/716148 [01:13<00:00, 9786.64rows/s]\n"
     ]
    }
   ],
   "source": [
    "sql = \"\"\"SELECT * FROM [covid-jul25.usprojections.final_cases]\"\"\"\n",
    "finalcasesdf = pd.read_gbq(sql, dialect='legacy')"
   ]
  },
  {
   "cell_type": "code",
   "execution_count": 57,
   "metadata": {},
   "outputs": [
    {
     "name": "stderr",
     "output_type": "stream",
     "text": [
      "1it [04:31, 271.27s/it]\n"
     ]
    }
   ],
   "source": [
    "alldf = pd.concat([finalcasesdf,allforecast],sort=False)\n",
    "#Write to temp table\n",
    "alldf.to_gbq('usprojections.arima_all_result_temp',if_exists='replace')"
   ]
  },
  {
   "cell_type": "code",
   "execution_count": null,
   "metadata": {},
   "outputs": [],
   "source": [
    "query_job = bigquery_client.query(\n",
    "    \"\"\"\n",
    "    -- DROP TABLE IF EXISTS `covid-jul25.usprojections.arima_all_result`;\n",
    "    -- CREATE TABLE `covid-jul25.usprojections.arima_all_result` AS\n",
    "    DELETE FROM `covid-jul25.usprojections.arima_all_result` WHERE True;\n",
    "    INSERT INTO `covid-jul25.usprojections.arima_all_result`\n",
    "    SELECT *,confirmed/duration as confirmed_velocity, deaths/duration as deaths_velocity FROM\n",
    "    (SELECT *, row_number() OVER(PARTITION BY statecounty ORDER BY date ASC) as duration\n",
    "    FROM `covid-jul25.usprojections.arima_all_result_temp`)\n",
    "    \"\"\")\n",
    "results = query_job.result()"
   ]
  }
 ],
 "metadata": {
  "kernelspec": {
   "display_name": "Python 3",
   "language": "python",
   "name": "python3"
  },
  "language_info": {
   "codemirror_mode": {
    "name": "ipython",
    "version": 3
   },
   "file_extension": ".py",
   "mimetype": "text/x-python",
   "name": "python",
   "nbconvert_exporter": "python",
   "pygments_lexer": "ipython3",
   "version": "3.7.6"
  },
  "toc": {
   "base_numbering": 1,
   "nav_menu": {},
   "number_sections": true,
   "sideBar": true,
   "skip_h1_title": false,
   "title_cell": "Table of Contents",
   "title_sidebar": "Contents",
   "toc_cell": false,
   "toc_position": {
    "height": "calc(100% - 180px)",
    "left": "10px",
    "top": "150px",
    "width": "341.333px"
   },
   "toc_section_display": true,
   "toc_window_display": true
  },
  "varInspector": {
   "cols": {
    "lenName": 16,
    "lenType": 16,
    "lenVar": 40
   },
   "kernels_config": {
    "python": {
     "delete_cmd_postfix": "",
     "delete_cmd_prefix": "del ",
     "library": "var_list.py",
     "varRefreshCmd": "print(var_dic_list())"
    },
    "r": {
     "delete_cmd_postfix": ") ",
     "delete_cmd_prefix": "rm(",
     "library": "var_list.r",
     "varRefreshCmd": "cat(var_dic_list()) "
    }
   },
   "types_to_exclude": [
    "module",
    "function",
    "builtin_function_or_method",
    "instance",
    "_Feature"
   ],
   "window_display": false
  }
 },
 "nbformat": 4,
 "nbformat_minor": 4
}
